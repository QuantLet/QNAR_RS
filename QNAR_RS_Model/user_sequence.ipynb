{
 "cells": [
  {
   "cell_type": "code",
   "metadata": {
    "ExecuteTime": {
     "end_time": "2025-03-12T11:32:32.194820Z",
     "start_time": "2025-03-12T11:32:32.188690Z"
    }
   },
   "source": [
    "import pandas as pd\n",
    "import sys\n",
    "sys.path.insert(0, \"..\")\n",
    "from shared.Sequencer import Sequencer"
   ],
   "outputs": [],
   "execution_count": 4
  },
  {
   "cell_type": "code",
   "metadata": {
    "ExecuteTime": {
     "end_time": "2025-03-12T11:33:50.720551Z",
     "start_time": "2025-03-12T11:33:39.640830Z"
    }
   },
   "source": "df_user = pd.read_csv(\"../data/quantinar/audit_logs/recommender_system/audit_logs/quantinar_audit_20241212.csv\")",
   "outputs": [],
   "execution_count": 7
  },
  {
   "cell_type": "code",
   "metadata": {
    "ExecuteTime": {
     "end_time": "2025-03-12T11:33:50.744577Z",
     "start_time": "2025-03-12T11:33:50.731904Z"
    }
   },
   "source": [
    "df_user"
   ],
   "outputs": [
    {
     "data": {
      "text/plain": [
       "        Unnamed: 0                                    id  \\\n",
       "0                0  667da0a1-e0f9-4220-9416-4ed999769381   \n",
       "1                1  0ede51df-7fe0-48d2-9714-c49ea8eb531e   \n",
       "2                2  90dbe2a2-3a80-4c40-b814-44e27375be81   \n",
       "3                3  d48d63eb-217d-4b14-b1af-6921fb4fe288   \n",
       "4                4  fe28cf7d-44e8-4ee6-957b-eeb2035f9557   \n",
       "...            ...                                   ...   \n",
       "837964      837964  c92d641c-c659-4d64-8cde-d921c84c3fb3   \n",
       "837965      837965  0717815c-6d3a-4654-b63c-e8f04d00193b   \n",
       "837966      837966  f8c38b20-1807-405b-b242-ed53286bb45a   \n",
       "837967      837967  bd5c4ed2-1272-4c1f-a7a7-33898dc43c07   \n",
       "837968      837968  38171b62-9939-4602-8ab9-acc41f99cf68   \n",
       "\n",
       "                                         session  \\\n",
       "0       2UChEvXVJcTE1xEGSYCL5v6bzW3TkBigpEXwohcC   \n",
       "1       DRkjfgmGu3HCT862oNPJAqaIwAlOUvc7n4VRGUBf   \n",
       "2       IZvpbwnEJBPuTfQhkepQiuPYATS5arfDgJ9V9mmX   \n",
       "3       02xg9wS455hESY2U9zTgNGt4Whm7aJ6jYvZoQAgO   \n",
       "4       rMULgFKmULegW3zSKeiFl0jrQpgyLW5xOVDfTpew   \n",
       "...                                          ...   \n",
       "837964  s4Jf5vpwhzXliZKy4WciqAPP6AcDPA8usyCiaIPh   \n",
       "837965  s4Jf5vpwhzXliZKy4WciqAPP6AcDPA8usyCiaIPh   \n",
       "837966  s4Jf5vpwhzXliZKy4WciqAPP6AcDPA8usyCiaIPh   \n",
       "837967  s4Jf5vpwhzXliZKy4WciqAPP6AcDPA8usyCiaIPh   \n",
       "837968  XuRB4ITUmxTbIeSnPcZn6axIRMy8KcyUtZ5wjc7z   \n",
       "\n",
       "                                        user         from_url  \\\n",
       "0                                        NaN              NaN   \n",
       "1                                        NaN              NaN   \n",
       "2                                        NaN              NaN   \n",
       "3                                        NaN              NaN   \n",
       "4                                        NaN              NaN   \n",
       "...                                      ...              ...   \n",
       "837964  4016471e-c851-48c9-883c-45dba46c2e87  /watch/pdf/2433   \n",
       "837965  4016471e-c851-48c9-883c-45dba46c2e87  /watch/pdf/2433   \n",
       "837966  4016471e-c851-48c9-883c-45dba46c2e87  /watch/pdf/2433   \n",
       "837967  4016471e-c851-48c9-883c-45dba46c2e87  /watch/pdf/2433   \n",
       "837968                                   NaN              NaN   \n",
       "\n",
       "                                           to_url   timestamp  \n",
       "0               /browse?id=10&category=Blockchain  1722608316  \n",
       "1       /course/133/generalized-method-of-moments  1722608427  \n",
       "2                                  /course/92/KDE  1722608498  \n",
       "3                         /watch/courseclass/1174  1722608614  \n",
       "4                                 /watch/pdf/1152  1722608660  \n",
       "...                                           ...         ...  \n",
       "837964                     /user/pdf/2433/page/46  1734023416  \n",
       "837965                     /user/pdf/2433/page/47  1734023416  \n",
       "837966                     /user/pdf/2433/page/48  1734023416  \n",
       "837967                     /user/pdf/2433/page/49  1734023417  \n",
       "837968              /course/143/spectral-analysis  1734023523  \n",
       "\n",
       "[837969 rows x 7 columns]"
      ],
      "text/html": [
       "<div>\n",
       "<style scoped>\n",
       "    .dataframe tbody tr th:only-of-type {\n",
       "        vertical-align: middle;\n",
       "    }\n",
       "\n",
       "    .dataframe tbody tr th {\n",
       "        vertical-align: top;\n",
       "    }\n",
       "\n",
       "    .dataframe thead th {\n",
       "        text-align: right;\n",
       "    }\n",
       "</style>\n",
       "<table border=\"1\" class=\"dataframe\">\n",
       "  <thead>\n",
       "    <tr style=\"text-align: right;\">\n",
       "      <th></th>\n",
       "      <th>Unnamed: 0</th>\n",
       "      <th>id</th>\n",
       "      <th>session</th>\n",
       "      <th>user</th>\n",
       "      <th>from_url</th>\n",
       "      <th>to_url</th>\n",
       "      <th>timestamp</th>\n",
       "    </tr>\n",
       "  </thead>\n",
       "  <tbody>\n",
       "    <tr>\n",
       "      <th>0</th>\n",
       "      <td>0</td>\n",
       "      <td>667da0a1-e0f9-4220-9416-4ed999769381</td>\n",
       "      <td>2UChEvXVJcTE1xEGSYCL5v6bzW3TkBigpEXwohcC</td>\n",
       "      <td>NaN</td>\n",
       "      <td>NaN</td>\n",
       "      <td>/browse?id=10&amp;category=Blockchain</td>\n",
       "      <td>1722608316</td>\n",
       "    </tr>\n",
       "    <tr>\n",
       "      <th>1</th>\n",
       "      <td>1</td>\n",
       "      <td>0ede51df-7fe0-48d2-9714-c49ea8eb531e</td>\n",
       "      <td>DRkjfgmGu3HCT862oNPJAqaIwAlOUvc7n4VRGUBf</td>\n",
       "      <td>NaN</td>\n",
       "      <td>NaN</td>\n",
       "      <td>/course/133/generalized-method-of-moments</td>\n",
       "      <td>1722608427</td>\n",
       "    </tr>\n",
       "    <tr>\n",
       "      <th>2</th>\n",
       "      <td>2</td>\n",
       "      <td>90dbe2a2-3a80-4c40-b814-44e27375be81</td>\n",
       "      <td>IZvpbwnEJBPuTfQhkepQiuPYATS5arfDgJ9V9mmX</td>\n",
       "      <td>NaN</td>\n",
       "      <td>NaN</td>\n",
       "      <td>/course/92/KDE</td>\n",
       "      <td>1722608498</td>\n",
       "    </tr>\n",
       "    <tr>\n",
       "      <th>3</th>\n",
       "      <td>3</td>\n",
       "      <td>d48d63eb-217d-4b14-b1af-6921fb4fe288</td>\n",
       "      <td>02xg9wS455hESY2U9zTgNGt4Whm7aJ6jYvZoQAgO</td>\n",
       "      <td>NaN</td>\n",
       "      <td>NaN</td>\n",
       "      <td>/watch/courseclass/1174</td>\n",
       "      <td>1722608614</td>\n",
       "    </tr>\n",
       "    <tr>\n",
       "      <th>4</th>\n",
       "      <td>4</td>\n",
       "      <td>fe28cf7d-44e8-4ee6-957b-eeb2035f9557</td>\n",
       "      <td>rMULgFKmULegW3zSKeiFl0jrQpgyLW5xOVDfTpew</td>\n",
       "      <td>NaN</td>\n",
       "      <td>NaN</td>\n",
       "      <td>/watch/pdf/1152</td>\n",
       "      <td>1722608660</td>\n",
       "    </tr>\n",
       "    <tr>\n",
       "      <th>...</th>\n",
       "      <td>...</td>\n",
       "      <td>...</td>\n",
       "      <td>...</td>\n",
       "      <td>...</td>\n",
       "      <td>...</td>\n",
       "      <td>...</td>\n",
       "      <td>...</td>\n",
       "    </tr>\n",
       "    <tr>\n",
       "      <th>837964</th>\n",
       "      <td>837964</td>\n",
       "      <td>c92d641c-c659-4d64-8cde-d921c84c3fb3</td>\n",
       "      <td>s4Jf5vpwhzXliZKy4WciqAPP6AcDPA8usyCiaIPh</td>\n",
       "      <td>4016471e-c851-48c9-883c-45dba46c2e87</td>\n",
       "      <td>/watch/pdf/2433</td>\n",
       "      <td>/user/pdf/2433/page/46</td>\n",
       "      <td>1734023416</td>\n",
       "    </tr>\n",
       "    <tr>\n",
       "      <th>837965</th>\n",
       "      <td>837965</td>\n",
       "      <td>0717815c-6d3a-4654-b63c-e8f04d00193b</td>\n",
       "      <td>s4Jf5vpwhzXliZKy4WciqAPP6AcDPA8usyCiaIPh</td>\n",
       "      <td>4016471e-c851-48c9-883c-45dba46c2e87</td>\n",
       "      <td>/watch/pdf/2433</td>\n",
       "      <td>/user/pdf/2433/page/47</td>\n",
       "      <td>1734023416</td>\n",
       "    </tr>\n",
       "    <tr>\n",
       "      <th>837966</th>\n",
       "      <td>837966</td>\n",
       "      <td>f8c38b20-1807-405b-b242-ed53286bb45a</td>\n",
       "      <td>s4Jf5vpwhzXliZKy4WciqAPP6AcDPA8usyCiaIPh</td>\n",
       "      <td>4016471e-c851-48c9-883c-45dba46c2e87</td>\n",
       "      <td>/watch/pdf/2433</td>\n",
       "      <td>/user/pdf/2433/page/48</td>\n",
       "      <td>1734023416</td>\n",
       "    </tr>\n",
       "    <tr>\n",
       "      <th>837967</th>\n",
       "      <td>837967</td>\n",
       "      <td>bd5c4ed2-1272-4c1f-a7a7-33898dc43c07</td>\n",
       "      <td>s4Jf5vpwhzXliZKy4WciqAPP6AcDPA8usyCiaIPh</td>\n",
       "      <td>4016471e-c851-48c9-883c-45dba46c2e87</td>\n",
       "      <td>/watch/pdf/2433</td>\n",
       "      <td>/user/pdf/2433/page/49</td>\n",
       "      <td>1734023417</td>\n",
       "    </tr>\n",
       "    <tr>\n",
       "      <th>837968</th>\n",
       "      <td>837968</td>\n",
       "      <td>38171b62-9939-4602-8ab9-acc41f99cf68</td>\n",
       "      <td>XuRB4ITUmxTbIeSnPcZn6axIRMy8KcyUtZ5wjc7z</td>\n",
       "      <td>NaN</td>\n",
       "      <td>NaN</td>\n",
       "      <td>/course/143/spectral-analysis</td>\n",
       "      <td>1734023523</td>\n",
       "    </tr>\n",
       "  </tbody>\n",
       "</table>\n",
       "<p>837969 rows × 7 columns</p>\n",
       "</div>"
      ]
     },
     "execution_count": 8,
     "metadata": {},
     "output_type": "execute_result"
    }
   ],
   "execution_count": 8
  },
  {
   "cell_type": "code",
   "metadata": {
    "ExecuteTime": {
     "end_time": "2025-03-12T11:33:52.112537Z",
     "start_time": "2025-03-12T11:33:50.798987Z"
    }
   },
   "source": [
    "df_user = df_user.sort_values(by='id')"
   ],
   "outputs": [],
   "execution_count": 9
  },
  {
   "cell_type": "code",
   "metadata": {
    "ExecuteTime": {
     "end_time": "2025-03-12T11:33:52.146792Z",
     "start_time": "2025-03-12T11:33:52.139528Z"
    }
   },
   "source": [
    "df_user"
   ],
   "outputs": [
    {
     "data": {
      "text/plain": [
       "        Unnamed: 0                                    id  \\\n",
       "504397      504397  00001ed2-83b2-4bc7-9837-3ce83647c9bd   \n",
       "385521      385521  0000299c-ca18-4c24-a742-894128d31d15   \n",
       "256505      256505  00003010-2815-4538-bd7b-58ec487a3d2e   \n",
       "38325        38325  0000313a-16a7-4096-b051-23aab9d2ffc1   \n",
       "321991      321991  00003141-e5b8-4907-9b6b-e1006438f9fe   \n",
       "...            ...                                   ...   \n",
       "17560        17560  ffffcc7c-7b49-4187-b59d-89c3688c9099   \n",
       "812364      812364  ffffcc81-8f01-4f94-89d2-866d4ed30b8d   \n",
       "633712      633712  ffffd2c9-321d-44ce-8066-101a046fbb6b   \n",
       "164695      164695  ffffee3d-5417-4e26-b4d2-ce8ba607a8b8   \n",
       "92954        92954  fffff0bd-a86f-4af8-af69-6e769a36c446   \n",
       "\n",
       "                                         session  \\\n",
       "504397  4MdGvo3NHVSFnZfvypLP9jjOnvhVyM4XNjhjpnbs   \n",
       "385521  yU4zjidwONkQUwVK3eODEX0ryCbj8dEbmIUk88nj   \n",
       "256505  BBMrEZFXnGrvlDHHfBzi8NseAu1UbpxSYFx0AGba   \n",
       "38325   tlLWo0KNENL7NAYDtwlGDr6OSkUwqiMJiFYEmpJV   \n",
       "321991  7zHEsgFYbDUSPh9GL83Y7iaPbVcfRKaI7lFFQrYW   \n",
       "...                                          ...   \n",
       "17560   rr8UpVU9dyefGPkkxvlTh9Lm3rgPAPBOTDRYEYhf   \n",
       "812364  BVGF243KmlKIYJZ7wJEQgjZlN0nl4ynnERVHbtB3   \n",
       "633712  2YcZKzQr3VMoNtb4KaXCar5M6s2IxCel51Ytawq5   \n",
       "164695  0buaUwoZUZtLIrHJFZGOuJ8Fy7RhkTpdQtKb269J   \n",
       "92954   6TOyabwQ2DbZ7MBl8iUYEL0rohele88adqOMXBD0   \n",
       "\n",
       "                                        user                   from_url  \\\n",
       "504397                                   NaN                        NaN   \n",
       "385521                                   NaN                        NaN   \n",
       "256505                                   NaN                        NaN   \n",
       "38325                                    NaN                        NaN   \n",
       "321991                                   NaN                        NaN   \n",
       "...                                      ...                        ...   \n",
       "17560                                    NaN                        NaN   \n",
       "812364                                   NaN                        NaN   \n",
       "633712                                   NaN                        NaN   \n",
       "164695  378be295-b9bc-4d80-b237-a3439e8b9e10  /course/136/price-hedging   \n",
       "92954   e8de25f1-aef3-4c0c-8452-1dde33b7dbf5    /watch/courseclass/1068   \n",
       "\n",
       "                                                   to_url   timestamp  \n",
       "504397  /browse?id=7&amp;amp%3Bamp%3Bamp%3Bamp%3Bamp%3...  1730748938  \n",
       "385521  /browse?id=11&amp;amp%3Bamp%3Bamp%3Bamp%3Bamp%...  1729875817  \n",
       "256505  /browse?id=14&amp;amp%3Bamp%3Bamp%3Bamp%3Bamp%...  1727713049  \n",
       "38325   /course/288/explanatory-data-analysis-and-data...  1724433440  \n",
       "321991                                                  /  1728596882  \n",
       "...                                                   ...         ...  \n",
       "17560                                     /keycloak.login  1723547959  \n",
       "812364  /browse?id=7&amp%3Bamp%3Bamp%3Bamp%3Bamp%3Bamp...  1733434175  \n",
       "633712  /browse?id=7&amp;amp%3Bamp%3Bamp%3Bamp%3Bamp%3...  1732309751  \n",
       "164695                   /coursecontent/136/price-hedging  1726832484  \n",
       "92954                         /user/movie/1068/time/34:16  1726303393  \n",
       "\n",
       "[837969 rows x 7 columns]"
      ],
      "text/html": [
       "<div>\n",
       "<style scoped>\n",
       "    .dataframe tbody tr th:only-of-type {\n",
       "        vertical-align: middle;\n",
       "    }\n",
       "\n",
       "    .dataframe tbody tr th {\n",
       "        vertical-align: top;\n",
       "    }\n",
       "\n",
       "    .dataframe thead th {\n",
       "        text-align: right;\n",
       "    }\n",
       "</style>\n",
       "<table border=\"1\" class=\"dataframe\">\n",
       "  <thead>\n",
       "    <tr style=\"text-align: right;\">\n",
       "      <th></th>\n",
       "      <th>Unnamed: 0</th>\n",
       "      <th>id</th>\n",
       "      <th>session</th>\n",
       "      <th>user</th>\n",
       "      <th>from_url</th>\n",
       "      <th>to_url</th>\n",
       "      <th>timestamp</th>\n",
       "    </tr>\n",
       "  </thead>\n",
       "  <tbody>\n",
       "    <tr>\n",
       "      <th>504397</th>\n",
       "      <td>504397</td>\n",
       "      <td>00001ed2-83b2-4bc7-9837-3ce83647c9bd</td>\n",
       "      <td>4MdGvo3NHVSFnZfvypLP9jjOnvhVyM4XNjhjpnbs</td>\n",
       "      <td>NaN</td>\n",
       "      <td>NaN</td>\n",
       "      <td>/browse?id=7&amp;amp;amp%3Bamp%3Bamp%3Bamp%3Bamp%3...</td>\n",
       "      <td>1730748938</td>\n",
       "    </tr>\n",
       "    <tr>\n",
       "      <th>385521</th>\n",
       "      <td>385521</td>\n",
       "      <td>0000299c-ca18-4c24-a742-894128d31d15</td>\n",
       "      <td>yU4zjidwONkQUwVK3eODEX0ryCbj8dEbmIUk88nj</td>\n",
       "      <td>NaN</td>\n",
       "      <td>NaN</td>\n",
       "      <td>/browse?id=11&amp;amp;amp%3Bamp%3Bamp%3Bamp%3Bamp%...</td>\n",
       "      <td>1729875817</td>\n",
       "    </tr>\n",
       "    <tr>\n",
       "      <th>256505</th>\n",
       "      <td>256505</td>\n",
       "      <td>00003010-2815-4538-bd7b-58ec487a3d2e</td>\n",
       "      <td>BBMrEZFXnGrvlDHHfBzi8NseAu1UbpxSYFx0AGba</td>\n",
       "      <td>NaN</td>\n",
       "      <td>NaN</td>\n",
       "      <td>/browse?id=14&amp;amp;amp%3Bamp%3Bamp%3Bamp%3Bamp%...</td>\n",
       "      <td>1727713049</td>\n",
       "    </tr>\n",
       "    <tr>\n",
       "      <th>38325</th>\n",
       "      <td>38325</td>\n",
       "      <td>0000313a-16a7-4096-b051-23aab9d2ffc1</td>\n",
       "      <td>tlLWo0KNENL7NAYDtwlGDr6OSkUwqiMJiFYEmpJV</td>\n",
       "      <td>NaN</td>\n",
       "      <td>NaN</td>\n",
       "      <td>/course/288/explanatory-data-analysis-and-data...</td>\n",
       "      <td>1724433440</td>\n",
       "    </tr>\n",
       "    <tr>\n",
       "      <th>321991</th>\n",
       "      <td>321991</td>\n",
       "      <td>00003141-e5b8-4907-9b6b-e1006438f9fe</td>\n",
       "      <td>7zHEsgFYbDUSPh9GL83Y7iaPbVcfRKaI7lFFQrYW</td>\n",
       "      <td>NaN</td>\n",
       "      <td>NaN</td>\n",
       "      <td>/</td>\n",
       "      <td>1728596882</td>\n",
       "    </tr>\n",
       "    <tr>\n",
       "      <th>...</th>\n",
       "      <td>...</td>\n",
       "      <td>...</td>\n",
       "      <td>...</td>\n",
       "      <td>...</td>\n",
       "      <td>...</td>\n",
       "      <td>...</td>\n",
       "      <td>...</td>\n",
       "    </tr>\n",
       "    <tr>\n",
       "      <th>17560</th>\n",
       "      <td>17560</td>\n",
       "      <td>ffffcc7c-7b49-4187-b59d-89c3688c9099</td>\n",
       "      <td>rr8UpVU9dyefGPkkxvlTh9Lm3rgPAPBOTDRYEYhf</td>\n",
       "      <td>NaN</td>\n",
       "      <td>NaN</td>\n",
       "      <td>/keycloak.login</td>\n",
       "      <td>1723547959</td>\n",
       "    </tr>\n",
       "    <tr>\n",
       "      <th>812364</th>\n",
       "      <td>812364</td>\n",
       "      <td>ffffcc81-8f01-4f94-89d2-866d4ed30b8d</td>\n",
       "      <td>BVGF243KmlKIYJZ7wJEQgjZlN0nl4ynnERVHbtB3</td>\n",
       "      <td>NaN</td>\n",
       "      <td>NaN</td>\n",
       "      <td>/browse?id=7&amp;amp%3Bamp%3Bamp%3Bamp%3Bamp%3Bamp...</td>\n",
       "      <td>1733434175</td>\n",
       "    </tr>\n",
       "    <tr>\n",
       "      <th>633712</th>\n",
       "      <td>633712</td>\n",
       "      <td>ffffd2c9-321d-44ce-8066-101a046fbb6b</td>\n",
       "      <td>2YcZKzQr3VMoNtb4KaXCar5M6s2IxCel51Ytawq5</td>\n",
       "      <td>NaN</td>\n",
       "      <td>NaN</td>\n",
       "      <td>/browse?id=7&amp;amp;amp%3Bamp%3Bamp%3Bamp%3Bamp%3...</td>\n",
       "      <td>1732309751</td>\n",
       "    </tr>\n",
       "    <tr>\n",
       "      <th>164695</th>\n",
       "      <td>164695</td>\n",
       "      <td>ffffee3d-5417-4e26-b4d2-ce8ba607a8b8</td>\n",
       "      <td>0buaUwoZUZtLIrHJFZGOuJ8Fy7RhkTpdQtKb269J</td>\n",
       "      <td>378be295-b9bc-4d80-b237-a3439e8b9e10</td>\n",
       "      <td>/course/136/price-hedging</td>\n",
       "      <td>/coursecontent/136/price-hedging</td>\n",
       "      <td>1726832484</td>\n",
       "    </tr>\n",
       "    <tr>\n",
       "      <th>92954</th>\n",
       "      <td>92954</td>\n",
       "      <td>fffff0bd-a86f-4af8-af69-6e769a36c446</td>\n",
       "      <td>6TOyabwQ2DbZ7MBl8iUYEL0rohele88adqOMXBD0</td>\n",
       "      <td>e8de25f1-aef3-4c0c-8452-1dde33b7dbf5</td>\n",
       "      <td>/watch/courseclass/1068</td>\n",
       "      <td>/user/movie/1068/time/34:16</td>\n",
       "      <td>1726303393</td>\n",
       "    </tr>\n",
       "  </tbody>\n",
       "</table>\n",
       "<p>837969 rows × 7 columns</p>\n",
       "</div>"
      ]
     },
     "execution_count": 10,
     "metadata": {},
     "output_type": "execute_result"
    }
   ],
   "execution_count": 10
  },
  {
   "cell_type": "code",
   "metadata": {
    "ExecuteTime": {
     "end_time": "2025-03-12T11:33:57.241817Z",
     "start_time": "2025-03-12T11:33:57.169166Z"
    }
   },
   "source": [
    "# 假设 df_user 是你已有的 DataFrame\n",
    "\n",
    "# 第一步：删除 user 列为 NaN 的行\n",
    "df_user = df_user.dropna(subset=['user'])\n",
    "\n",
    "# 第二步：按照 user 和 timestamp 对 DataFrame 进行排序\n",
    "df_user = df_user.sort_values(by=['user', 'timestamp'])\n",
    "\n",
    "# 第三步：为每个 user 构建访问网址序列\n",
    "user_visit_sequences = df_user.groupby('user').apply(Sequencer.audit_log_to_sequence).reset_index(name='url_sequence')\n",
    "\n",
    "# 展示结果\n",
    "print(user_visit_sequences[\"url_sequence\"][0])\n"
   ],
   "outputs": [
    {
     "ename": "AttributeError",
     "evalue": "type object 'Sequencer' has no attribute 'audit_log_to_sequence'",
     "output_type": "error",
     "traceback": [
      "\u001B[0;31m---------------------------------------------------------------------------\u001B[0m",
      "\u001B[0;31mAttributeError\u001B[0m                            Traceback (most recent call last)",
      "Cell \u001B[0;32mIn[12], line 10\u001B[0m\n\u001B[1;32m      7\u001B[0m df_user \u001B[38;5;241m=\u001B[39m df_user\u001B[38;5;241m.\u001B[39msort_values(by\u001B[38;5;241m=\u001B[39m[\u001B[38;5;124m'\u001B[39m\u001B[38;5;124muser\u001B[39m\u001B[38;5;124m'\u001B[39m, \u001B[38;5;124m'\u001B[39m\u001B[38;5;124mtimestamp\u001B[39m\u001B[38;5;124m'\u001B[39m])\n\u001B[1;32m      9\u001B[0m \u001B[38;5;66;03m# 第三步：为每个 user 构建访问网址序列\u001B[39;00m\n\u001B[0;32m---> 10\u001B[0m user_visit_sequences \u001B[38;5;241m=\u001B[39m df_user\u001B[38;5;241m.\u001B[39mgroupby(\u001B[38;5;124m'\u001B[39m\u001B[38;5;124muser\u001B[39m\u001B[38;5;124m'\u001B[39m)\u001B[38;5;241m.\u001B[39mapply(\u001B[43mSequencer\u001B[49m\u001B[38;5;241;43m.\u001B[39;49m\u001B[43maudit_log_to_sequence\u001B[49m)\u001B[38;5;241m.\u001B[39mreset_index(name\u001B[38;5;241m=\u001B[39m\u001B[38;5;124m'\u001B[39m\u001B[38;5;124murl_sequence\u001B[39m\u001B[38;5;124m'\u001B[39m)\n\u001B[1;32m     12\u001B[0m \u001B[38;5;66;03m# 展示结果\u001B[39;00m\n\u001B[1;32m     13\u001B[0m \u001B[38;5;28mprint\u001B[39m(user_visit_sequences[\u001B[38;5;124m\"\u001B[39m\u001B[38;5;124murl_sequence\u001B[39m\u001B[38;5;124m\"\u001B[39m][\u001B[38;5;241m0\u001B[39m])\n",
      "\u001B[0;31mAttributeError\u001B[0m: type object 'Sequencer' has no attribute 'audit_log_to_sequence'"
     ]
    }
   ],
   "execution_count": 12
  },
  {
   "cell_type": "code",
   "execution_count": 9,
   "metadata": {
    "ExecuteTime": {
     "end_time": "2025-03-12T11:33:52.312114169Z",
     "start_time": "2025-01-10T07:50:41.544540Z"
    }
   },
   "outputs": [
    {
     "data": {
      "text/plain": "                                     user  \\\n0    00535c8a-fae8-4bd2-8031-dfcea8a2f88a   \n1    00a35ec7-6956-462b-a2f1-af6873500f8e   \n2    018a7281-9f41-42cc-b5a7-b198a62144e5   \n3    01ba4b86-87a3-4820-839e-41e9bb406142   \n4    020186ff-bd6e-44cc-b04c-fee9d5ed3cba   \n..                                    ...   \n584  ffabd16c-a181-4235-8c65-98f532153b90   \n585  ffae31de-a615-4fd4-85ec-7cf154ae5d84   \n586  ffb94b53-4dde-473c-a00a-fa29f5c94963   \n587  ffc61aa3-3bd9-42e6-b909-c1a4c020efe5   \n588  ffd0af9b-05be-4771-b9ab-ecbd0301b607   \n\n                                          url_sequence  \n0    [/keycloak.callback?code=17bdb742-c69d-4249-90...  \n1    [/watch/pdf/1337, /keycloak.callback?code=1d24...  \n2    [/keycloak.callback?code=38bced01-3b3f-41c8-89...  \n3    [/keycloak.callback?code=1a335183-5fa1-485d-8a...  \n4    [/keycloak.callback?code=145d8758-5735-4f1f-82...  \n..                                                 ...  \n584  [/keycloak.callback?code=edbb163d-4cd8-4411-88...  \n585  [/keycloak.callback?code=882ee168-54b7-4ca5-89...  \n586  [/keycloak.callback?code=f651164f-2f77-4444-8a...  \n587  [/keycloak.callback?code=4c80fd5c-3594-4ee1-8b...  \n588  [/keycloak.callback?code=3cdbd13a-4d59-478d-9f...  \n\n[589 rows x 2 columns]",
      "text/html": "<div>\n<style scoped>\n    .dataframe tbody tr th:only-of-type {\n        vertical-align: middle;\n    }\n\n    .dataframe tbody tr th {\n        vertical-align: top;\n    }\n\n    .dataframe thead th {\n        text-align: right;\n    }\n</style>\n<table border=\"1\" class=\"dataframe\">\n  <thead>\n    <tr style=\"text-align: right;\">\n      <th></th>\n      <th>user</th>\n      <th>url_sequence</th>\n    </tr>\n  </thead>\n  <tbody>\n    <tr>\n      <th>0</th>\n      <td>00535c8a-fae8-4bd2-8031-dfcea8a2f88a</td>\n      <td>[/keycloak.callback?code=17bdb742-c69d-4249-90...</td>\n    </tr>\n    <tr>\n      <th>1</th>\n      <td>00a35ec7-6956-462b-a2f1-af6873500f8e</td>\n      <td>[/watch/pdf/1337, /keycloak.callback?code=1d24...</td>\n    </tr>\n    <tr>\n      <th>2</th>\n      <td>018a7281-9f41-42cc-b5a7-b198a62144e5</td>\n      <td>[/keycloak.callback?code=38bced01-3b3f-41c8-89...</td>\n    </tr>\n    <tr>\n      <th>3</th>\n      <td>01ba4b86-87a3-4820-839e-41e9bb406142</td>\n      <td>[/keycloak.callback?code=1a335183-5fa1-485d-8a...</td>\n    </tr>\n    <tr>\n      <th>4</th>\n      <td>020186ff-bd6e-44cc-b04c-fee9d5ed3cba</td>\n      <td>[/keycloak.callback?code=145d8758-5735-4f1f-82...</td>\n    </tr>\n    <tr>\n      <th>...</th>\n      <td>...</td>\n      <td>...</td>\n    </tr>\n    <tr>\n      <th>584</th>\n      <td>ffabd16c-a181-4235-8c65-98f532153b90</td>\n      <td>[/keycloak.callback?code=edbb163d-4cd8-4411-88...</td>\n    </tr>\n    <tr>\n      <th>585</th>\n      <td>ffae31de-a615-4fd4-85ec-7cf154ae5d84</td>\n      <td>[/keycloak.callback?code=882ee168-54b7-4ca5-89...</td>\n    </tr>\n    <tr>\n      <th>586</th>\n      <td>ffb94b53-4dde-473c-a00a-fa29f5c94963</td>\n      <td>[/keycloak.callback?code=f651164f-2f77-4444-8a...</td>\n    </tr>\n    <tr>\n      <th>587</th>\n      <td>ffc61aa3-3bd9-42e6-b909-c1a4c020efe5</td>\n      <td>[/keycloak.callback?code=4c80fd5c-3594-4ee1-8b...</td>\n    </tr>\n    <tr>\n      <th>588</th>\n      <td>ffd0af9b-05be-4771-b9ab-ecbd0301b607</td>\n      <td>[/keycloak.callback?code=3cdbd13a-4d59-478d-9f...</td>\n    </tr>\n  </tbody>\n</table>\n<p>589 rows × 2 columns</p>\n</div>"
     },
     "execution_count": 9,
     "metadata": {},
     "output_type": "execute_result"
    }
   ],
   "source": [
    "user_visit_sequences"
   ]
  },
  {
   "cell_type": "code",
   "execution_count": 10,
   "metadata": {
    "ExecuteTime": {
     "end_time": "2025-03-12T11:33:52.324791160Z",
     "start_time": "2025-01-10T07:50:42.249963Z"
    }
   },
   "outputs": [
    {
     "data": {
      "text/plain": "['/keycloak.callback?code=38bced01-3b3f-41c8-897d-d7d2d5e31aa1.8b399d7c-0660-4d76-a256-9b932bf97a37.c0156509-88bd-4a6b-8c80-ee5f5ad5dbbd&session_state=8b399d7c-0660-4d76-a256-9b932bf97a37&state=6ac177f611e66d9a46a37c4fafb73f0e',\n '/browse?category=machinelearning&id=11',\n '/keycloak.callback?code=b0148bed-1ec1-4c9a-8958-b8fbef39e801.8b399d7c-0660-4d76-a256-9b932bf97a37.c0156509-88bd-4a6b-8c80-ee5f5ad5dbbd&session_state=8b399d7c-0660-4d76-a256-9b932bf97a37&state=6ac177f611e66d9a46a37c4fafb73f0e',\n '/browse?category=machinelearning&id=11',\n '/browse?category=datascience&id=7',\n '/course/35/phacking',\n '/browse?category=fintech&id=9',\n '/course/171/frm-financial-risk-meter',\n '/course/171/frm-financial-risk-meter',\n '/browse?category=Digital%20Economy&id=13',\n '/browse?category=datascience&id=7',\n '/enroll/show/35',\n '/course/35/phacking',\n '/course/35/phacking',\n '/course/35/phacking',\n '/browse?category=fintech&id=9',\n '/course/146/robo-advising-under-rare-disasters',\n '/browse?id=11&category=machinelearning']"
     },
     "execution_count": 10,
     "metadata": {},
     "output_type": "execute_result"
    }
   ],
   "source": [
    "user_visit_sequences['url_sequence'][2]"
   ]
  },
  {
   "cell_type": "code",
   "execution_count": 11,
   "metadata": {
    "ExecuteTime": {
     "end_time": "2025-03-12T11:33:52.325510698Z",
     "start_time": "2025-01-10T07:50:43.257785Z"
    }
   },
   "outputs": [],
   "source": [
    "clean_sequence = []\n",
    "for i in range(len(user_visit_sequences['url_sequence'])):\n",
    "    data = user_visit_sequences['url_sequence'][i]\n",
    "    cs = Sequencer.clean_sequence(data)\n",
    "    clean_sequence.append(cs)"
   ]
  },
  {
   "cell_type": "code",
   "execution_count": 12,
   "metadata": {
    "ExecuteTime": {
     "end_time": "2025-03-12T11:33:52.326140898Z",
     "start_time": "2025-01-10T07:50:45.620951Z"
    }
   },
   "outputs": [
    {
     "name": "stdout",
     "output_type": "stream",
     "text": [
      "Before filtering: 589\n",
      "After filtering: 320\n"
     ]
    }
   ],
   "source": [
    "def is_number(s):\n",
    "    return s.isdigit()\n",
    "\n",
    "# 假设初始的 all_sequences 如下\n",
    "all_sequences = clean_sequence\n",
    "\n",
    "# 增加过滤步骤：仅保留含有search term（非数字token）的序列\n",
    "filtered_sequences = [seq for seq in all_sequences if any(not is_number(t) for t in seq)]\n",
    "\n",
    "# 打印过滤前后的长度\n",
    "print(\"Before filtering:\", len(all_sequences))\n",
    "print(\"After filtering:\", len(filtered_sequences))\n",
    "\n",
    "# 后续处理就使用 filtered_sequences 而不是 all_sequences\n",
    "all_sequences = filtered_sequences\n"
   ]
  },
  {
   "cell_type": "code",
   "execution_count": 13,
   "metadata": {
    "ExecuteTime": {
     "end_time": "2025-03-12T11:33:52.326631292Z",
     "start_time": "2025-01-10T07:50:46.515503Z"
    }
   },
   "outputs": [],
   "source": [
    "def is_number(s):\n",
    "    return s.isdigit()\n",
    "\n",
    "\n",
    "\n",
    "new_all_sequences = []\n",
    "\n",
    "for seq in all_sequences:\n",
    "    new_seq = []\n",
    "    prev_token = None\n",
    "    count = 0\n",
    "    for token in seq:\n",
    "        if token == prev_token:\n",
    "            count += 1\n",
    "        else:\n",
    "            prev_token = token\n",
    "            count = 1\n",
    "        \n",
    "        # 当 count <= 3 时才加入new_seq\n",
    "        if count <= 3:\n",
    "            new_seq.append(token)\n",
    "    new_all_sequences.append(new_seq)"
   ]
  },
  {
   "cell_type": "code",
   "execution_count": 14,
   "metadata": {
    "ExecuteTime": {
     "end_time": "2025-03-12T11:33:52.327161401Z",
     "start_time": "2025-01-10T07:50:47.434947Z"
    }
   },
   "outputs": [],
   "source": [
    "all_sequences = new_all_sequences"
   ]
  },
  {
   "cell_type": "code",
   "execution_count": 15,
   "metadata": {
    "ExecuteTime": {
     "end_time": "2025-03-12T11:33:52.327658627Z",
     "start_time": "2025-01-10T07:50:48.158210Z"
    }
   },
   "outputs": [],
   "source": [
    "import numpy as np"
   ]
  },
  {
   "cell_type": "code",
   "execution_count": 16,
   "metadata": {
    "ExecuteTime": {
     "end_time": "2025-03-12T11:33:52.328174308Z",
     "start_time": "2025-01-10T07:50:48.772148Z"
    }
   },
   "outputs": [],
   "source": [
    "import pandas as pd"
   ]
  },
  {
   "cell_type": "code",
   "execution_count": 17,
   "metadata": {
    "ExecuteTime": {
     "end_time": "2025-03-12T11:33:52.328645585Z",
     "start_time": "2025-01-10T07:50:49.150331Z"
    }
   },
   "outputs": [
    {
     "data": {
      "text/plain": "1536"
     },
     "execution_count": 17,
     "metadata": {},
     "output_type": "execute_result"
    }
   ],
   "source": [
    "len(list(map(float, pd.read_csv(\"../assets/embeddings.csv\")['embedding'][0].split())))"
   ]
  },
  {
   "cell_type": "code",
   "execution_count": 18,
   "metadata": {
    "ExecuteTime": {
     "end_time": "2025-03-12T11:33:52.332238069Z",
     "start_time": "2025-01-10T07:50:50.106809Z"
    }
   },
   "outputs": [],
   "source": [
    "import os\n",
    "import csv\n",
    "from transformers import AutoModel, AutoTokenizer\n",
    "import numpy as np\n",
    "\n",
    "model = AutoModel.from_pretrained('mesolitica/llama2-embedding-1b-8k', trust_remote_code=True)\n",
    "tokenizer = AutoTokenizer.from_pretrained('mesolitica/llama2-embedding-1b-8k')\n",
    "\n",
    "def llama_embed(s):\n",
    "    input_ids = tokenizer(\n",
    "        [s], \n",
    "        return_tensors='pt',\n",
    "        padding=True\n",
    "    )\n",
    "    # 获取模型输出并转为numpy数组\n",
    "    embedding = model.encode(input_ids).detach().numpy()\n",
    "    # 将嵌入结果从二维变为一维\n",
    "    return embedding.flatten()"
   ]
  },
  {
   "cell_type": "code",
   "execution_count": 19,
   "metadata": {
    "ExecuteTime": {
     "end_time": "2025-03-12T11:33:52.332720811Z",
     "start_time": "2025-01-10T07:50:54.651751Z"
    }
   },
   "outputs": [
    {
     "name": "stdout",
     "output_type": "stream",
     "text": [
      "{'16': 0, '22': 1, '23': 2, '27': 3, '29': 4, '30': 5, '33': 6, '34': 7, '35': 8, '36': 9, '37': 10, '39': 11, '40': 12, '41': 13, '42': 14, '43': 15, '44': 16, '46': 17, '47': 18, '48': 19, '50': 20, '51': 21, '52': 22, '54': 23, '55': 24, '56': 25, '57': 26, '58': 27, '59': 28, '60': 29, '61': 30, '62': 31, '65': 32, '66': 33, '67': 34, '68': 35, '71': 36, '72': 37, '73': 38, '77': 39, '78': 40, '79': 41, '80': 42, '83': 43, '84': 44, '88': 45, '93': 46, '94': 47, '97': 48, '98': 49, '100': 50, '101': 51, '102': 52, '103': 53, '109': 54, '110': 55, '112': 56, '114': 57, '133': 58, '134': 59, '135': 60, '136': 61, '137': 62, '139': 63, '142': 64, '143': 65, '144': 66, '145': 67, '146': 68, '148': 69, '149': 70, '151': 71, '153': 72, '154': 73, '156': 74, '157': 75, '158': 76, '159': 77, '164': 78, '165': 79, '169': 80, '170': 81, '171': 82, '174': 83, '175': 84, '176': 85, '177': 86, '179': 87, '182': 88, '184': 89, '187': 90, '191': 91, '194': 92, '198': 93, '202': 94, '204': 95, '206': 96, '207': 97, '210': 98, '213': 99, '216': 100, '219': 101, '222': 102, '225': 103, '228': 104, '231': 105, '234': 106, '237': 107, '240': 108, '243': 109, '246': 110, '249': 111, '252': 112, '255': 113, '258': 114, '261': 115, '264': 116, '270': 117, '288': 118, '309': 119, '312': 120, '315': 121, '318': 122, '324': 123, '327': 124, '330': 125, '336': 126, '339': 127, '342': 128, '345': 129, '348': 130, '351': 131, '354': 132, '357': 133, '360': 134, '363': 135, '369': 136, '372': 137, '375': 138, '381': 139, '393': 140, '396': 141, '411': 142, '420': 143, '423': 144, '426': 145, '429': 146, '435': 147, '438': 148, '447': 149, '450': 150, '463': 151, '466': 152, '478': 153, '484': 154, '486': 155, '501': 156, '503': 157, '506': 158, '525': 159, '529': 160, '533': 161, '535': 162, '537': 163, '539': 164, '540': 165, '544': 166, '546': 167, '547': 168, '549': 169, '552': 170, '553': 171, '566': 172, '567': 173, '568': 174, '569': 175, '575': 176, '576': 177, '578': 178, '581': 179, '586': 180, '589': 181, '590': 182, '593': 183, '632': 184, '635': 185, '638': 186, '643': 187, '645': 188, '647': 189, '649': 190, '651': 191, '652': 192, '655': 193, '658': 194, '660': 195, '662': 196, '663': 197, '664': 198, '667': 199, '671': 200, '674': 201, '679': 202, '683': 203, '687': 204, '689': 205, '694': 206, '695': 207, '697': 208, '699': 209, '702': 210, '704': 211, '705': 212, '706': 213, '707': 214, '708': 215, '709': 216, '710': 217, '712': 218, '714': 219, '715': 220, '716': 221, '717': 222, '727': 223, '729': 224, '730': 225, '732': 226, '733': 227, '734': 228, '736': 229, '738': 230, '739': 231, '740': 232, '741': 233, '742': 234, '744': 235, '747': 236, '748': 237, '749': 238, '750': 239, '751': 240, '752': 241, '753': 242, '755': 243, '756': 244, '757': 245, '763': 246, '764': 247, '765': 248, '766': 249, '767': 250, '768': 251, '769': 252, '770': 253, '771': 254, '772': 255, '773': 256, '774': 257, '775': 258, '776': 259, '777': 260, '778': 261, '779': 262, '780': 263, '781': 264, '782': 265, '783': 266, '784': 267, '786': 268, '787': 269, '789': 270, '790': 271, '791': 272, '792': 273, '793': 274, '794': 275, '799': 276, '801': 277, '802': 278, '803': 279, '805': 280, '809': 281, '810': 282, '811': 283, '814': 284, '815': 285, '816': 286, '817': 287, '818': 288, '819': 289, '820': 290, '821': 291, '822': 292, '823': 293, '825': 294, '826': 295, '827': 296, '828': 297, '1087': 298, '2024': 299}\n"
     ]
    }
   ],
   "source": [
    "def is_number(s):\n",
    "    return s.isdigit()\n",
    "\n",
    "# 提取所有数字型文件名\n",
    "file_set = set()\n",
    "for seq in all_sequences:\n",
    "    for token in seq:\n",
    "        if is_number(token):\n",
    "            file_set.add(token)\n",
    "\n",
    "# 将文件名排序，以便有序映射\n",
    "sorted_files = sorted(list(file_set), key=lambda x: int(x))\n",
    "\n",
    "# 为每个文件分配节点索引\n",
    "file_to_node_index = {f: idx for idx, f in enumerate(sorted_files)}\n",
    "\n",
    "print(file_to_node_index)"
   ]
  },
  {
   "cell_type": "code",
   "metadata": {
    "ExecuteTime": {
     "end_time": "2025-03-12T11:32:21.582318Z",
     "start_time": "2025-03-12T11:32:20.582659Z"
    }
   },
   "source": [
    "import csv\n",
    "import numpy as np\n",
    "import torch\n",
    "from transformers import AutoModel, AutoTokenizer\n",
    "\n",
    "window_size = 10\n",
    "embedding_size = 1536\n",
    "padding_vector = np.zeros((embedding_size,), dtype=np.float32)\n",
    "\n",
    "# 读取csv文件嵌入\n",
    "file_embedding_dict = {}\n",
    "with open('../assets/embeddings.csv', 'r', encoding='utf-8') as f:\n",
    "    reader = csv.reader(f)\n",
    "    header = next(reader)  # ['filename', 'embedding']\n",
    "    for row in reader:\n",
    "        filename = row[0]\n",
    "        embedding_str = row[1]\n",
    "        embedding = np.array(list(map(float, embedding_str.split())), dtype=np.float32)\n",
    "        file_embedding_dict[filename] = embedding\n",
    "\n",
    "model = AutoModel.from_pretrained('mesolitica/llama2-embedding-1b-8k', trust_remote_code=True)\n",
    "tokenizer = AutoTokenizer.from_pretrained('mesolitica/llama2-embedding-1b-8k')\n",
    "\n",
    "def llama_embed(s):\n",
    "    input_ids = tokenizer([s], return_tensors='pt', padding=True)\n",
    "    emb = model.encode(input_ids).detach().numpy()\n",
    "    return emb.flatten().astype(np.float32)\n",
    "\n",
    "def is_number(s):\n",
    "    return s.isdigit()\n",
    "\n",
    "def get_embedding(token, file_embedding_dict):\n",
    "    if is_number(token):\n",
    "        return file_embedding_dict[token] if token in file_embedding_dict else padding_vector\n",
    "    else:\n",
    "        return llama_embed(token)\n",
    "\n",
    "X_data = []\n",
    "search_terms = []\n",
    "labels = []\n",
    "\n",
    "\n",
    "for seq_idx, seq in enumerate(all_sequences):\n",
    "    # 找到搜索位置\n",
    "    text_end_indices = [i for i, t in enumerate(seq) if not is_number(t)]\n",
    "\n",
    "    for end_idx in text_end_indices:\n",
    "        start_idx = end_idx - window_size + 1\n",
    "        if start_idx < 0:\n",
    "            num_pad = -start_idx\n",
    "            # padding部分用0表示\n",
    "            window_tokens = [padding_vector] * num_pad\n",
    "            actual_tokens = seq[0:end_idx+1]\n",
    "        else:\n",
    "            window_tokens = []\n",
    "            actual_tokens = seq[start_idx:end_idx+1]\n",
    "\n",
    "        # 构建可读格式的列表\n",
    "        readable_seq = []\n",
    "\n",
    "        # 获取该窗口中所有token的embed\n",
    "        for token in actual_tokens:\n",
    "            emb = get_embedding(token, file_embedding_dict)\n",
    "            window_tokens.append(emb)\n",
    "            if is_number(token):\n",
    "                # 文件访问\n",
    "                readable_seq.append(f\"visit {token}\")\n",
    "            else:\n",
    "                # 搜索记录\n",
    "                readable_seq.append(f\"search '{token}'\")\n",
    "\n",
    "        # 如果需要padding\n",
    "        if start_idx < 0:\n",
    "            # 在序列前面添加 '0'\n",
    "            readable_seq = [\"0\"] * num_pad + readable_seq\n",
    "\n",
    "        # 确保长度为window_size\n",
    "        if len(window_tokens) == window_size:\n",
    "\n",
    "            # 窗口最后一个token为搜索词\n",
    "            last_token = actual_tokens[-1]\n",
    "            search_emb = llama_embed(last_token)\n",
    "\n",
    "            # 寻找下一个访问文件作为label\n",
    "            label_token = None\n",
    "            for j in range(end_idx+1, len(seq)):\n",
    "                if is_number(seq[j]):\n",
    "                    label_token = seq[j]\n",
    "                    break\n",
    "\n",
    "            if label_token is None or label_token not in file_to_node_index:\n",
    "                continue\n",
    "\n",
    "            label_idx = file_to_node_index[label_token]\n",
    "\n",
    "            search_terms.append(search_emb)\n",
    "            labels.append(label_idx)\n",
    "\n",
    "\n",
    "            X_data.append(np.stack(window_tokens, axis=0))\n",
    "\n",
    "            \n",
    "            print(f\"Sequence {seq_idx}, end_idx={end_idx}: {' , '.join(readable_seq)} | Label file: {label_token}\")\n",
    "\n",
    "\n",
    "X_data = np.array(X_data, dtype=np.float32)\n",
    "X_tensor = torch.tensor(X_data)\n",
    "print(\"X_data shape:\", X_data.shape)\n",
    "print(\"X_tensor shape:\", X_tensor.shape)\n",
    "\n",
    "search_terms = np.array(search_terms, dtype=np.float32)\n",
    "labels = np.array(labels, dtype=np.int64)\n",
    "\n",
    "search_terms_tensor = torch.tensor(search_terms)\n",
    "labels_tensor = torch.tensor(labels)\n",
    "\n",
    "print(\"search_terms shape:\", search_terms.shape)\n",
    "print(\"labels shape:\", labels.shape)\n",
    "print(\"search_terms_tensor shape:\", search_terms_tensor.shape)\n",
    "print(\"labels_tensor shape:\", labels_tensor.shape)\n",
    "\n"
   ],
   "outputs": [
    {
     "ename": "NameError",
     "evalue": "name 'all_sequences' is not defined",
     "output_type": "error",
     "traceback": [
      "\u001B[0;31m---------------------------------------------------------------------------\u001B[0m",
      "\u001B[0;31mNameError\u001B[0m                                 Traceback (most recent call last)",
      "Cell \u001B[0;32mIn[3], line 43\u001B[0m\n\u001B[1;32m     39\u001B[0m search_terms \u001B[38;5;241m=\u001B[39m []\n\u001B[1;32m     40\u001B[0m labels \u001B[38;5;241m=\u001B[39m []\n\u001B[0;32m---> 43\u001B[0m \u001B[38;5;28;01mfor\u001B[39;00m seq_idx, seq \u001B[38;5;129;01min\u001B[39;00m \u001B[38;5;28menumerate\u001B[39m(\u001B[43mall_sequences\u001B[49m):\n\u001B[1;32m     44\u001B[0m     \u001B[38;5;66;03m# 找到搜索位置\u001B[39;00m\n\u001B[1;32m     45\u001B[0m     text_end_indices \u001B[38;5;241m=\u001B[39m [i \u001B[38;5;28;01mfor\u001B[39;00m i, t \u001B[38;5;129;01min\u001B[39;00m \u001B[38;5;28menumerate\u001B[39m(seq) \u001B[38;5;28;01mif\u001B[39;00m \u001B[38;5;129;01mnot\u001B[39;00m is_number(t)]\n\u001B[1;32m     47\u001B[0m     \u001B[38;5;28;01mfor\u001B[39;00m end_idx \u001B[38;5;129;01min\u001B[39;00m text_end_indices:\n",
      "\u001B[0;31mNameError\u001B[0m: name 'all_sequences' is not defined"
     ]
    }
   ],
   "execution_count": 3
  },
  {
   "cell_type": "code",
   "execution_count": 35,
   "metadata": {},
   "outputs": [
    {
     "name": "stdout",
     "output_type": "stream",
     "text": [
      "Data saved to training_data.pt\n"
     ]
    }
   ],
   "source": [
    "import torch\n",
    "\n",
    "# 假设你已经有如下三个张量\n",
    "# X_tensor = torch.tensor(X_data)\n",
    "# search_terms_tensor = torch.tensor(search_terms)\n",
    "# labels_tensor = torch.tensor(labels)\n",
    "\n",
    "# 可以将它们一起打包成一个字典或元组来保存\n",
    "data_dict = {\n",
    "    'X_tensor': X_tensor,\n",
    "    'search_terms_tensor': search_terms_tensor,\n",
    "    'labels_tensor': labels_tensor\n",
    "}\n",
    "\n",
    "# 使用torch.save保存到文件\n",
    "torch.save(data_dict, 'training_data.pt')\n",
    "\n",
    "print(\"Data saved to training_data.pt\")\n"
   ]
  },
  {
   "metadata": {},
   "cell_type": "code",
   "outputs": [],
   "execution_count": null,
   "source": ""
  }
 ],
 "metadata": {
  "kernelspec": {
   "display_name": "Python 3 (ipykernel)",
   "language": "python",
   "name": "python3"
  },
  "language_info": {
   "codemirror_mode": {
    "name": "ipython",
    "version": 3
   },
   "file_extension": ".py",
   "mimetype": "text/x-python",
   "name": "python",
   "nbconvert_exporter": "python",
   "pygments_lexer": "ipython3",
   "version": "3.12.7"
  }
 },
 "nbformat": 4,
 "nbformat_minor": 4
}
